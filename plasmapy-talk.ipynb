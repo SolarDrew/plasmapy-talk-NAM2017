{
 "cells": [
  {
   "cell_type": "markdown",
   "metadata": {
    "slideshow": {
     "slide_type": "slide"
    }
   },
   "source": [
    "# PlasmaPy - a Plasma Physics package for Python"
   ]
  },
  {
   "cell_type": "markdown",
   "metadata": {
    "slideshow": {
     "slide_type": "slide"
    }
   },
   "source": [
    "## Introduction"
   ]
  },
  {
   "cell_type": "markdown",
   "metadata": {
    "slideshow": {
     "slide_type": "subslide"
    }
   },
   "source": [
    "### Status of the field / the problem"
   ]
  },
  {
   "cell_type": "markdown",
   "metadata": {
    "slideshow": {
     "slide_type": "-"
    }
   },
   "source": [
    "- Major codes often use low-level languages such as Fortran\n",
    "- Programmers are often self-taught\n",
    "- Compiling and installing codes is difficult and time-consuming\n",
    "- Different codes lack interoperability\n",
    "- Documentation is usually inadequate\n",
    "- Access to major codes is often restricted in some way\n",
    "- Somewhat unusual to share code\n",
    "- Many versions of software do essentially the same thing\n",
    "- Research is difficult to reproduce\n",
    "\n",
    "There  is  a  considerable  need  for  open,  general-purpose software  for  plasma  physics  using  modern  best practices for scientific programmin"
   ]
  },
  {
   "cell_type": "markdown",
   "metadata": {
    "slideshow": {
     "slide_type": "subslide"
    }
   },
   "source": [
    "### Aims of PlasmaPy"
   ]
  },
  {
   "cell_type": "markdown",
   "metadata": {
    "slideshow": {
     "slide_type": "-"
    }
   },
   "source": [
    "PlasmaPy will use best practices for scientific computing [4] to ensure that code is easy-to-use and maintainable\n",
    "\n",
    "- Simple and intuitive application program interface (API)\n",
    "- Readable and consistent style (such as PEP 8 standard)\n",
    "- Embed documentation in code\n",
    "- Use modular, object-oriented programming\n",
    "- Version control with git and GitHub\n",
    "- Avoid prematurely optimizing code\n",
    "- Use high-level languages when possible\n",
    "- Use Slack for text-based chat team communication and community building, with in-person development meetings\n",
    "- Use automated unit testing, issue tracking tools, and pre-merge code reviews\n",
    "- Ensure that the community is welcoming and inclusive\n",
    "\n",
    "4 - G. Wilson et al., \\Best Practices for Scienti c Computing,\" PLOS Biology 12, e1001745 (2014)"
   ]
  },
  {
   "cell_type": "markdown",
   "metadata": {
    "slideshow": {
     "slide_type": "slide"
    }
   },
   "source": [
    "## Main features of PlasmaPy"
   ]
  },
  {
   "cell_type": "markdown",
   "metadata": {
    "slideshow": {
     "slide_type": "subslide"
    }
   },
   "source": [
    "### Currently under development\n",
    "\n",
    "- `Plasma` class\n",
    "    - plasma parameters\n",
    "    - MHD solver\n",
    "- Documentation"
   ]
  },
  {
   "cell_type": "markdown",
   "metadata": {
    "slideshow": {
     "slide_type": "subslide"
    }
   },
   "source": [
    "### Aims for v0.1 (Jan 2018)\n",
    "\n",
    "- Particle stepper\n",
    "- Dispersion relation solver\n",
    "- Magnetic topology analysis"
   ]
  },
  {
   "cell_type": "markdown",
   "metadata": {
    "slideshow": {
     "slide_type": "slide"
    }
   },
   "source": [
    "## `Plasma` demonstration"
   ]
  },
  {
   "cell_type": "markdown",
   "metadata": {
    "slideshow": {
     "slide_type": "subslide"
    }
   },
   "source": [
    "### Instantiation and setup"
   ]
  },
  {
   "cell_type": "code",
   "execution_count": null,
   "metadata": {},
   "outputs": [],
   "source": [
    "import numpy as np\n",
    "import astropy.units as u\n",
    "\n",
    "from plasmapy import Plasma\n",
    "\n",
    "# Define spatial extent of the plasma\n",
    "xrange = np.linspace(0, 1, 50) * u.m\n",
    "yrange = np.linspace(0, 1, 50) * u.m\n",
    "zrange = [0] * u.m\n",
    "\n",
    "myplasma = Plasma(domain_x=xrange, domain_y=yrange, domain_z=zrange)"
   ]
  },
  {
   "cell_type": "code",
   "execution_count": null,
   "metadata": {
    "slideshow": {
     "slide_type": "subslide"
    }
   },
   "outputs": [],
   "source": [
    "import matplotlib.pyplot as plt\n",
    "\n",
    "xx, yy, zz = myplasma.grid.value * np.pi\n",
    "myplasma.density = (np.sin(xx) * np.sin(yy)) * myplasma.density.unit\n",
    "\n",
    "plt.imshow(myplasma.density.value)\n",
    "plt.show()"
   ]
  },
  {
   "cell_type": "markdown",
   "metadata": {
    "slideshow": {
     "slide_type": "slide"
    }
   },
   "source": [
    "### Running a simulation"
   ]
  },
  {
   "cell_type": "markdown",
   "metadata": {
    "slideshow": {
     "slide_type": "slide"
    }
   },
   "source": [
    "## Long term\n",
    "\n",
    "- Requirements for the package\n",
    "    - See slide below\n",
    "- Getting involved\n",
    "    - See slide below"
   ]
  },
  {
   "cell_type": "markdown",
   "metadata": {},
   "source": [
    "### Initial development plan\n",
    "\n",
    "- Short term development priorities\n",
    "    - Create a `plasma` class that allows easy calculation of plasma parameters (using `astropy.units`)\n",
    "    - Implement commonly used analytical functions\n",
    "    - Create simple tools for analysing magnetic field data\n",
    "- Long term development possibilities\n",
    "    - Standardise data representations\n",
    "    - Build tools for analysing and visualising experimental results\n",
    "    - Implement a flexible Grad-Shafranov solver\n",
    "    - Incorporate easy-to-use fluid and particle-in-cell simultation capabilities\n",
    "    - Design tools for the analysis of magnetic topology\n",
    "- Follow Astropy model by using main package for core functionality, and affiliated packages for extensions\n",
    "- Dev plan is still under development..."
   ]
  },
  {
   "cell_type": "markdown",
   "metadata": {},
   "source": [
    "### Goals for upcoming year\n",
    "\n",
    "- Recruit team members from a variety of subfields within plasma physics\n",
    "- Host initial discussions on Matrix and telecons\n",
    "- Survey existing Python software for plasma physcs and contemplate ways to unify efforts\n",
    "- Figure out short term and long term development plans, and begin development in earnest\n",
    "- Decide on an organisational structure and open-source license\n",
    "- Implement unit testing (eg with Travis)\n",
    "- Have an in-person dev meeting\n",
    "- Find long-term funding mechanisms\n",
    "- Host a Python training or Software Carpentry workshop at next year's APS DPP meeting?"
   ]
  },
  {
   "cell_type": "markdown",
   "metadata": {},
   "source": [
    "### What does PlasmaPy need to succeed?\n",
    "\n",
    "- Open development\n",
    "    - Need a critical mass of developers\n",
    "    - Low barrier to entry\n",
    "- A welcming and inclusive environment\n",
    "    - Provide a culture of appreciation for contributors to PlasmaPy\n",
    "    - Use the Contributor Covenant as the initial code of conduct and anti-harassment policy\n",
    "- A sustainable funding model\n",
    "    - Astropy development is mostly a volunteer grassroots effort\n",
    "    - Most work on Astropy has been done by graduate students and postdocs, with little direct funding support\n",
    "    - There is need for funding agencies and large institutions to support open development of general purpose software"
   ]
  },
  {
   "cell_type": "markdown",
   "metadata": {},
   "source": [
    "### Becoming involved\n",
    "\n",
    "- Contact Nick Murphy at [namurphy@cfa.harvard.edu](mailto:namurphy@cfa.harvard.edu) or Yi-Min Huang at [yiminh@princeton.edu](mailto:yiminh@princeton.edu) to join the email list or go to [https://riot.im/app/#/room/#plasmapy:matrix.org](https://riot.im/app/#/room/#plasmapy:matrix.org) to join the Matrix room.\n",
    "- GitHub repository: [https://github.com/PlasmaPy](https://github.com/PlasmaPy)\n",
    "- Sign up for the PlasmaPy email list at: [https://groups.google.com/d/forum/plasmapy](https://groups.google.com/d/forum/plasmapy)\n",
    "- The website will eventually be at [http://www.plasmapy.org](http://www.plasmapy.org)\n",
    "\n",
    "- Install - from git atm"
   ]
  }
 ],
 "metadata": {
  "celltoolbar": "Slideshow",
  "kernelspec": {
   "display_name": "Environment (conda_plasmapy-dev)",
   "language": "python",
   "name": "conda_plasmapy-dev"
  },
  "language_info": {
   "codemirror_mode": {
    "name": "ipython",
    "version": 3
   },
   "file_extension": ".py",
   "mimetype": "text/x-python",
   "name": "python",
   "nbconvert_exporter": "python",
   "pygments_lexer": "ipython3",
   "version": "3.6.1"
  }
 },
 "nbformat": 4,
 "nbformat_minor": 2
}
